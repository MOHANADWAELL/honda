{
 "cells": [
  {
   "cell_type": "code",
   "execution_count": 6,
   "id": "e96ff0f5-4143-41cb-9c12-2004ad97717f",
   "metadata": {},
   "outputs": [
    {
     "name": "stdin",
     "output_type": "stream",
     "text": [
      "enter your fisrt num : 1 2 3 4 5 6 7 9 5 \n"
     ]
    },
    {
     "name": "stdout",
     "output_type": "stream",
     "text": [
      "1 : is odd\n",
      "2\n",
      "3 : is odd\n",
      "4\n",
      "5 : is odd\n",
      "6\n",
      "7 : is odd\n",
      "9 : is odd\n",
      "5 : is odd\n"
     ]
    },
    {
     "data": {
      "text/plain": [
       "30"
      ]
     },
     "execution_count": 6,
     "metadata": {},
     "output_type": "execute_result"
    }
   ],
   "source": [
    "list_=input(\"enter your numbers :\").split()\n",
    "list_=list(map(int,list_))\n",
    "elsum=0\n",
    "for i in list_:\n",
    "    if i %2 !=0:\n",
    "        print(f'{i} : is odd')\n",
    "        elsum+=i\n",
    "    else:\n",
    "        print(i)        \n",
    "elsum   "
   ]
  },
  {
   "cell_type": "code",
   "execution_count": 2,
   "id": "67ae6f2b-a4b4-4afe-9cf7-cee62500e2fe",
   "metadata": {},
   "outputs": [
    {
     "name": "stdin",
     "output_type": "stream",
     "text": [
      "enter your fisrt num : 22\n",
      "enter your sec num : 0\n"
     ]
    },
    {
     "name": "stdout",
     "output_type": "stream",
     "text": [
      "please enter any num except elzero\n"
     ]
    },
    {
     "name": "stdin",
     "output_type": "stream",
     "text": [
      "enter sec mun : 2\n"
     ]
    },
    {
     "name": "stdout",
     "output_type": "stream",
     "text": [
      "11.0\n"
     ]
    }
   ],
   "source": [
    "x=float(input(\"enter your fisrt num :\"))\n",
    "y=float(input(\"enter your sec num :\"))\n",
    "def div(x,y):\n",
    "    while y==0:\n",
    "        print(\"please enter any num except elzero\")\n",
    "        y = float(input(\"enter sec mun :\"))\n",
    "    else:\n",
    "        print(x/y)\n",
    "div(x,y)"
   ]
  },
  {
   "cell_type": "code",
   "execution_count": 10,
   "id": "129b257d-af41-4c06-b3cc-7fede9256943",
   "metadata": {},
   "outputs": [
    {
     "name": "stdout",
     "output_type": "stream",
     "text": [
      "2.0\n",
      "<class 'float'>\n"
     ]
    }
   ],
   "source": [
    "x=\"2\"\n",
    "y=float(x)\n",
    "print(y)\n",
    "print(type(y))"
   ]
  },
  {
   "cell_type": "code",
   "execution_count": 23,
   "id": "377f734f-b363-4c55-9be2-7d65c9163d96",
   "metadata": {},
   "outputs": [
    {
     "name": "stdout",
     "output_type": "stream",
     "text": [
      "A B C D E F G H I J K L M N O P Q R S T U V W X Y Z\n",
      "a b c d e f g h i j k l m n o p q r s t u v w x y z\n"
     ]
    }
   ],
   "source": [
    "import string\n",
    "print(\" \".join(string.ascii_uppercase))\n",
    "print(\" \".join(string.ascii_lowercase))"
   ]
  },
  {
   "cell_type": "code",
   "execution_count": null,
   "id": "4f52e394-a3fe-4b96-9d3c-599461edaf01",
   "metadata": {},
   "outputs": [],
   "source": []
  }
 ],
 "metadata": {
  "kernelspec": {
   "display_name": "Python 3 (ipykernel)",
   "language": "python",
   "name": "python3"
  },
  "language_info": {
   "codemirror_mode": {
    "name": "ipython",
    "version": 3
   },
   "file_extension": ".py",
   "mimetype": "text/x-python",
   "name": "python",
   "nbconvert_exporter": "python",
   "pygments_lexer": "ipython3",
   "version": "3.13.0"
  }
 },
 "nbformat": 4,
 "nbformat_minor": 5
}
